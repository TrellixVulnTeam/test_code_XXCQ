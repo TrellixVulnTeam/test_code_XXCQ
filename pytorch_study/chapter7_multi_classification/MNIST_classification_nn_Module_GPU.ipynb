{
 "cells": [
  {
   "cell_type": "markdown",
   "metadata": {},
   "source": [
    "# A three-layer multi-label-classification with custom NN class (GPU)"
   ]
  },
  {
   "cell_type": "code",
   "execution_count": 1,
   "metadata": {},
   "outputs": [],
   "source": [
    "import torch\n",
    "import torch.nn as nn\n",
    "import torch.nn.functional as F\n",
    "import torch.optim as optim\n",
    "from torchvision import datasets, transforms"
   ]
  },
  {
   "cell_type": "markdown",
   "metadata": {},
   "source": [
    "## Check if pytorch can use GPU"
   ]
  },
  {
   "cell_type": "code",
   "execution_count": 2,
   "metadata": {},
   "outputs": [
    {
     "name": "stdout",
     "output_type": "stream",
     "text": [
      "True\n",
      "0\n",
      "<torch.cuda.device object at 0x000001E3FC298908>\n",
      "1\n",
      "NVIDIA GeForce RTX 3080\n"
     ]
    }
   ],
   "source": [
    "print(torch.cuda.is_available())\n",
    "print(torch.cuda.current_device())\n",
    "print(torch.cuda.device(0))\n",
    "print(torch.cuda.device_count())\n",
    "print(torch.cuda.get_device_name(0))"
   ]
  },
  {
   "cell_type": "markdown",
   "metadata": {},
   "source": [
    "## Set up training and testing dataset using MNIST"
   ]
  },
  {
   "cell_type": "code",
   "execution_count": 4,
   "metadata": {},
   "outputs": [
    {
     "name": "stderr",
     "output_type": "stream",
     "text": [
      "C:\\Users\\chaow\\.conda\\envs\\pytorch\\lib\\site-packages\\torchvision\\datasets\\mnist.py:498: UserWarning: The given NumPy array is not writeable, and PyTorch does not support non-writeable tensors. This means you can write to the underlying (supposedly non-writeable) NumPy array using the tensor. You may want to copy the array to protect its data or make it writeable before converting it to a tensor. This type of warning will be suppressed for the rest of this program. (Triggered internally at  ..\\torch\\csrc\\utils\\tensor_numpy.cpp:180.)\n",
      "  return torch.from_numpy(parsed.astype(m[2], copy=False)).view(*s)\n"
     ]
    }
   ],
   "source": [
    "batch_size = 200\n",
    "epochs = 10\n",
    "\n",
    "# - First time it will download MNIST data online to `../data` path;\n",
    "# - Parameter `transforms.Normalize((0.1307, ), (0.3081, ))` is some experiential normalization\n",
    "#   parameters on original images which can improve the classification result. It can be skipped\n",
    "#   if you don't need.\n",
    "# - Distinguish training or testing dataset by setting `train=True` or `train=False`.\n",
    "train_loader = torch.utils.data.DataLoader(datasets.MNIST(\n",
    "    '../data',\n",
    "    train=True,\n",
    "    download=True,\n",
    "    transform=transforms.Compose(\n",
    "        [transforms.ToTensor(),\n",
    "         transforms.Normalize((0.1307, ), (0.3081, ))])),\n",
    "                                           batch_size=batch_size,\n",
    "                                           shuffle=True)\n",
    "test_loader = torch.utils.data.DataLoader(datasets.MNIST(\n",
    "    '../data',\n",
    "    train=False,\n",
    "    transform=transforms.Compose(\n",
    "        [transforms.ToTensor(),\n",
    "         transforms.Normalize((0.1307, ), (0.3081, ))])),\n",
    "                                          batch_size=batch_size,\n",
    "                                          shuffle=True)"
   ]
  },
  {
   "cell_type": "code",
   "execution_count": 5,
   "metadata": {},
   "outputs": [
    {
     "name": "stdout",
     "output_type": "stream",
     "text": [
      "torch.Size([200, 1, 28, 28]) torch.Size([200])\n",
      "tensor([[[[-0.4242, -0.4242, -0.4242,  ..., -0.4242, -0.4242, -0.4242],\n",
      "          [-0.4242, -0.4242, -0.4242,  ..., -0.4242, -0.4242, -0.4242],\n",
      "          [-0.4242, -0.4242, -0.4242,  ..., -0.4242, -0.4242, -0.4242],\n",
      "          ...,\n",
      "          [-0.4242, -0.4242, -0.4242,  ..., -0.4242, -0.4242, -0.4242],\n",
      "          [-0.4242, -0.4242, -0.4242,  ..., -0.4242, -0.4242, -0.4242],\n",
      "          [-0.4242, -0.4242, -0.4242,  ..., -0.4242, -0.4242, -0.4242]]],\n",
      "\n",
      "\n",
      "        [[[-0.4242, -0.4242, -0.4242,  ..., -0.4242, -0.4242, -0.4242],\n",
      "          [-0.4242, -0.4242, -0.4242,  ..., -0.4242, -0.4242, -0.4242],\n",
      "          [-0.4242, -0.4242, -0.4242,  ..., -0.4242, -0.4242, -0.4242],\n",
      "          ...,\n",
      "          [-0.4242, -0.4242, -0.4242,  ..., -0.4242, -0.4242, -0.4242],\n",
      "          [-0.4242, -0.4242, -0.4242,  ..., -0.4242, -0.4242, -0.4242],\n",
      "          [-0.4242, -0.4242, -0.4242,  ..., -0.4242, -0.4242, -0.4242]]],\n",
      "\n",
      "\n",
      "        [[[-0.4242, -0.4242, -0.4242,  ..., -0.4242, -0.4242, -0.4242],\n",
      "          [-0.4242, -0.4242, -0.4242,  ..., -0.4242, -0.4242, -0.4242],\n",
      "          [-0.4242, -0.4242, -0.4242,  ..., -0.4242, -0.4242, -0.4242],\n",
      "          ...,\n",
      "          [-0.4242, -0.4242, -0.4242,  ..., -0.4242, -0.4242, -0.4242],\n",
      "          [-0.4242, -0.4242, -0.4242,  ..., -0.4242, -0.4242, -0.4242],\n",
      "          [-0.4242, -0.4242, -0.4242,  ..., -0.4242, -0.4242, -0.4242]]],\n",
      "\n",
      "\n",
      "        ...,\n",
      "\n",
      "\n",
      "        [[[-0.4242, -0.4242, -0.4242,  ..., -0.4242, -0.4242, -0.4242],\n",
      "          [-0.4242, -0.4242, -0.4242,  ..., -0.4242, -0.4242, -0.4242],\n",
      "          [-0.4242, -0.4242, -0.4242,  ..., -0.4242, -0.4242, -0.4242],\n",
      "          ...,\n",
      "          [-0.4242, -0.4242, -0.4242,  ..., -0.4242, -0.4242, -0.4242],\n",
      "          [-0.4242, -0.4242, -0.4242,  ..., -0.4242, -0.4242, -0.4242],\n",
      "          [-0.4242, -0.4242, -0.4242,  ..., -0.4242, -0.4242, -0.4242]]],\n",
      "\n",
      "\n",
      "        [[[-0.4242, -0.4242, -0.4242,  ..., -0.4242, -0.4242, -0.4242],\n",
      "          [-0.4242, -0.4242, -0.4242,  ..., -0.4242, -0.4242, -0.4242],\n",
      "          [-0.4242, -0.4242, -0.4242,  ..., -0.4242, -0.4242, -0.4242],\n",
      "          ...,\n",
      "          [-0.4242, -0.4242, -0.4242,  ..., -0.4242, -0.4242, -0.4242],\n",
      "          [-0.4242, -0.4242, -0.4242,  ..., -0.4242, -0.4242, -0.4242],\n",
      "          [-0.4242, -0.4242, -0.4242,  ..., -0.4242, -0.4242, -0.4242]]],\n",
      "\n",
      "\n",
      "        [[[-0.4242, -0.4242, -0.4242,  ..., -0.4242, -0.4242, -0.4242],\n",
      "          [-0.4242, -0.4242, -0.4242,  ..., -0.4242, -0.4242, -0.4242],\n",
      "          [-0.4242, -0.4242, -0.4242,  ..., -0.4242, -0.4242, -0.4242],\n",
      "          ...,\n",
      "          [-0.4242, -0.4242, -0.4242,  ..., -0.4242, -0.4242, -0.4242],\n",
      "          [-0.4242, -0.4242, -0.4242,  ..., -0.4242, -0.4242, -0.4242],\n",
      "          [-0.4242, -0.4242, -0.4242,  ..., -0.4242, -0.4242, -0.4242]]]]) tensor([7, 6, 2, 1, 6, 2, 8, 5, 1, 6, 1, 6, 8, 6, 3, 4, 1, 0, 0, 5, 2, 3, 5, 2,\n",
      "        7, 1, 8, 0, 3, 3, 7, 8, 1, 5, 5, 2, 2, 8, 8, 6, 0, 7, 2, 1, 4, 6, 8, 6,\n",
      "        1, 4, 7, 3, 7, 9, 4, 7, 8, 8, 6, 5, 4, 3, 6, 4, 5, 9, 8, 1, 7, 5, 2, 3,\n",
      "        0, 5, 3, 8, 4, 7, 3, 0, 0, 2, 3, 8, 5, 1, 3, 7, 9, 9, 6, 7, 0, 4, 9, 1,\n",
      "        9, 3, 4, 7, 8, 9, 0, 2, 3, 9, 7, 1, 4, 0, 4, 3, 7, 5, 1, 5, 6, 3, 4, 9,\n",
      "        9, 1, 8, 1, 1, 7, 2, 6, 5, 6, 8, 8, 8, 9, 1, 6, 3, 3, 8, 3, 9, 1, 9, 6,\n",
      "        5, 4, 7, 2, 7, 0, 7, 4, 3, 6, 1, 9, 8, 6, 6, 3, 1, 9, 5, 6, 2, 9, 5, 6,\n",
      "        3, 4, 4, 6, 3, 4, 1, 3, 0, 9, 9, 4, 6, 3, 2, 1, 3, 0, 6, 9, 1, 6, 2, 4,\n",
      "        1, 7, 1, 7, 9, 7, 6, 5])\n"
     ]
    }
   ],
   "source": [
    "# Print a sample to verify the data loader.\n",
    "# Each image in MNIST dataset is a 28x28 grayscale (1-channel) image.\n",
    "# Then, data.shape should be [batch_size, 1, 28, 28], while target.shape should be [batch_size].\n",
    "source, target = next(iter(train_loader))\n",
    "print(source.shape, target.shape)\n",
    "print(source.data, target.data)"
   ]
  },
  {
   "cell_type": "markdown",
   "metadata": {},
   "source": [
    "## Set up MLP layers\n",
    "Here we use three layers and design a inherited class."
   ]
  },
  {
   "cell_type": "code",
   "execution_count": 6,
   "metadata": {},
   "outputs": [],
   "source": [
    "class MLP(nn.Module):\n",
    "    def __init__(self, in_dim, out_dim):\n",
    "        super(MLP, self).__init__()\n",
    "\n",
    "        self.model = nn.Sequential(\n",
    "            nn.Linear(in_dim, 200),\n",
    "            nn.ReLU(inplace=True),\n",
    "            nn.Linear(200, 200),\n",
    "            nn.ReLU(inplace=True),\n",
    "            nn.Linear(200, out_dim),\n",
    "            nn.ReLU(inplace=True),\n",
    "        )\n",
    "        # Initialize weights here\n",
    "        self._init_weight('kaiming')\n",
    "\n",
    "    # Initialization function, first checks the module type,\n",
    "    # then applies the desired changes to the weights.\n",
    "    def _init_weight(self, init_method):\n",
    "        for m in self.modules():\n",
    "            if isinstance(m, nn.Linear):\n",
    "                if init_method == 'kaiming':\n",
    "                    # 'fan_in': to create weight implicitly by creating a linear layer\n",
    "                    nn.init.kaiming_normal_(m.weight, mode='fan_in')\n",
    "                else:\n",
    "                    nn.init.normal_(m.weight, 0, 0.01)\n",
    "            elif isinstance(m, nn.BatchNorm2d):\n",
    "                nn.init.ones_(m.weight)\n",
    "                nn.init.zeros_(m.bias)\n",
    "\n",
    "    def forward(self, x):\n",
    "        x = self.model(x)\n",
    "        return x\n"
   ]
  },
  {
   "cell_type": "markdown",
   "metadata": {},
   "source": [
    "## Set up main training and testing pipeline with GPU"
   ]
  },
  {
   "cell_type": "code",
   "execution_count": 9,
   "metadata": {},
   "outputs": [
    {
     "name": "stdout",
     "output_type": "stream",
     "text": [
      "Train Epoch: 0 [0/60000 (0%)]\tLoss: 2.619437\n",
      "Train Epoch: 0 [20000/60000 (33%)]\tLoss: 0.774886\n",
      "Train Epoch: 0 [40000/60000 (67%)]\tLoss: 0.612465\n",
      "\n",
      "Test set: Average loss: 0.0029, Accuracy: 8178/10000 (82%)\n",
      "\n",
      "Train Epoch: 1 [0/60000 (0%)]\tLoss: 0.594822\n",
      "Train Epoch: 1 [20000/60000 (33%)]\tLoss: 0.344164\n",
      "Train Epoch: 1 [40000/60000 (67%)]\tLoss: 0.494205\n",
      "\n",
      "Test set: Average loss: 0.0025, Accuracy: 8343/10000 (83%)\n",
      "\n",
      "Train Epoch: 2 [0/60000 (0%)]\tLoss: 0.545437\n",
      "Train Epoch: 2 [20000/60000 (33%)]\tLoss: 0.635064\n",
      "Train Epoch: 2 [40000/60000 (67%)]\tLoss: 0.596743\n",
      "\n",
      "Test set: Average loss: 0.0023, Accuracy: 8440/10000 (84%)\n",
      "\n",
      "Train Epoch: 3 [0/60000 (0%)]\tLoss: 0.612149\n",
      "Train Epoch: 3 [20000/60000 (33%)]\tLoss: 0.348498\n",
      "Train Epoch: 3 [40000/60000 (67%)]\tLoss: 0.495398\n",
      "\n",
      "Test set: Average loss: 0.0022, Accuracy: 8492/10000 (85%)\n",
      "\n",
      "Train Epoch: 4 [0/60000 (0%)]\tLoss: 0.550325\n",
      "Train Epoch: 4 [20000/60000 (33%)]\tLoss: 0.485413\n",
      "Train Epoch: 4 [40000/60000 (67%)]\tLoss: 0.392880\n",
      "\n",
      "Test set: Average loss: 0.0021, Accuracy: 8536/10000 (85%)\n",
      "\n",
      "Train Epoch: 5 [0/60000 (0%)]\tLoss: 0.444212\n",
      "Train Epoch: 5 [20000/60000 (33%)]\tLoss: 0.422830\n",
      "Train Epoch: 5 [40000/60000 (67%)]\tLoss: 0.396919\n",
      "\n",
      "Test set: Average loss: 0.0021, Accuracy: 8571/10000 (86%)\n",
      "\n",
      "Train Epoch: 6 [0/60000 (0%)]\tLoss: 0.359485\n",
      "Train Epoch: 6 [20000/60000 (33%)]\tLoss: 0.443948\n",
      "Train Epoch: 6 [40000/60000 (67%)]\tLoss: 0.412958\n",
      "\n",
      "Test set: Average loss: 0.0020, Accuracy: 8605/10000 (86%)\n",
      "\n",
      "Train Epoch: 7 [0/60000 (0%)]\tLoss: 0.398195\n",
      "Train Epoch: 7 [20000/60000 (33%)]\tLoss: 0.443309\n",
      "Train Epoch: 7 [40000/60000 (67%)]\tLoss: 0.350012\n",
      "\n",
      "Test set: Average loss: 0.0020, Accuracy: 8621/10000 (86%)\n",
      "\n",
      "Train Epoch: 8 [0/60000 (0%)]\tLoss: 0.284845\n",
      "Train Epoch: 8 [20000/60000 (33%)]\tLoss: 0.272857\n",
      "Train Epoch: 8 [40000/60000 (67%)]\tLoss: 0.493828\n",
      "\n",
      "Test set: Average loss: 0.0019, Accuracy: 8638/10000 (86%)\n",
      "\n",
      "Train Epoch: 9 [0/60000 (0%)]\tLoss: 0.310603\n",
      "Train Epoch: 9 [20000/60000 (33%)]\tLoss: 0.341516\n",
      "Train Epoch: 9 [40000/60000 (67%)]\tLoss: 0.384243\n",
      "\n",
      "Test set: Average loss: 0.0019, Accuracy: 8666/10000 (87%)\n",
      "\n"
     ]
    }
   ],
   "source": [
    "# Use the first GPU device\n",
    "device = torch.device('cuda:0')\n",
    "\n",
    "# NOTE: here 28*28 is input dimension, while 10 is output dimension (10 labels).\n",
    "# Set '.to(device)' on neural network and loss to use GPU.\n",
    "net = MLP(28 * 28, 10).to(device)\n",
    "learning_rate = 0.01\n",
    "optimizer = optim.SGD(net.parameters(), lr=learning_rate)\n",
    "criteon = nn.CrossEntropyLoss().to(device)\n",
    "\n",
    "# Main loop\n",
    "for epoch in range(epochs):\n",
    "\n",
    "    # Training\n",
    "    for batch_idx, (data, target) in enumerate(train_loader):\n",
    "        # [b, 1, 28, 28] => [b, 28*28]\n",
    "        data = data.view(-1, 28 * 28)\n",
    "\n",
    "        # Send the data to GPU.\n",
    "        data, target = data.to(device), target.to(device)\n",
    "\n",
    "        # Call forward() function.\n",
    "        logits = net(data)\n",
    "\n",
    "        # NOTE: pytorch's CrossEntropyLoss() already contains softwax. So don't call it again.\n",
    "        loss = criteon(logits, target)\n",
    "\n",
    "        # Clear gradients to zero before computing them.\n",
    "        optimizer.zero_grad()\n",
    "        # Set up backward computation on loss\n",
    "        loss.backward()\n",
    "        # This will update newly computed gradients\n",
    "        optimizer.step()\n",
    "\n",
    "        # Print some loss values\n",
    "        if batch_idx % 100 == 0:\n",
    "            print('Train Epoch: {} [{}/{} ({:.0f}%)]\\tLoss: {:.6f}'.format(\n",
    "                epoch, batch_idx * len(data), len(train_loader.dataset),\n",
    "                100. * batch_idx / len(train_loader), loss.item()))\n",
    "\n",
    "    # Testing\n",
    "    test_loss = 0\n",
    "    correct = 0\n",
    "    for data, target in test_loader:\n",
    "        data = data.view(-1, 28 * 28)\n",
    "        data, target = data.to(device), target.to(device)\n",
    "\n",
    "        logits = net(data)\n",
    "\n",
    "        # .item() is to get value(s) from the loss\n",
    "        test_loss += criteon(logits, target).item()\n",
    "\n",
    "        # pred is to get all predicted labels. 'logits' should be [batch_size, 10], where 10 is number of labels.\n",
    "        # - .max(1): get maximum values and indices along axis=1.\n",
    "        # - .max(1)[1]: max(1) returns two items that, [0] is values of maximums, and [1] is indices of these maximum\n",
    "        #               values (along the axis 1), while the latter is exactly the predicted labels.\n",
    "        # pred = logits.max(1)[1]\n",
    "        # NOTE: this works the same as above.\n",
    "        pred = logits.argmax(dim=1)\n",
    "\n",
    "        # Sum the number of correct prediction, by comparing predicted labels (pred) with target labels (target.data).\n",
    "        # - .eq(): returns a tensor with same size of pred or target.data that, its value is 1 if the two corresponding\n",
    "        #          values are equal, or 0 if not.\n",
    "        # - .sum(): summarize all values to get the number of correct predictions.\n",
    "        correct += pred.eq(target).sum()\n",
    "\n",
    "    # Print testing loss for this epoch\n",
    "    test_loss /= len(test_loader.dataset)\n",
    "    print(\n",
    "        '\\nTest set: Average loss: {:.4f}, Accuracy: {}/{} ({:.0f}%)\\n'.format(\n",
    "            test_loss, correct, len(test_loader.dataset),\n",
    "            100. * correct / len(test_loader.dataset)))\n"
   ]
  }
 ],
 "metadata": {
  "interpreter": {
   "hash": "4319ab5f051f54d8f5639b94b48976245e909ba20d4cb41a21df9adffaea2c48"
  },
  "kernelspec": {
   "display_name": "Python 3.7.11 64-bit ('pytorch': conda)",
   "name": "python3"
  },
  "language_info": {
   "codemirror_mode": {
    "name": "ipython",
    "version": 3
   },
   "file_extension": ".py",
   "mimetype": "text/x-python",
   "name": "python",
   "nbconvert_exporter": "python",
   "pygments_lexer": "ipython3",
   "version": "3.7.11"
  },
  "orig_nbformat": 4
 },
 "nbformat": 4,
 "nbformat_minor": 2
}
