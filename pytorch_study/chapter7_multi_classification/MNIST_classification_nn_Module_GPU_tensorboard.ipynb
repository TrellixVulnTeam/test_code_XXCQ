{
 "cells": [
  {
   "cell_type": "markdown",
   "metadata": {},
   "source": [
    "# A three-layer multi-label-classification with custom NN class and tensorboard (GPU)"
   ]
  },
  {
   "cell_type": "code",
   "execution_count": 8,
   "metadata": {},
   "outputs": [],
   "source": [
    "import torch\n",
    "import torch.nn as nn\n",
    "import torch.nn.functional as F\n",
    "import torch.optim as optim\n",
    "import torchvision\n",
    "from torchvision import datasets, transforms\n",
    "import matplotlib.pyplot as plt\n",
    "import numpy as np"
   ]
  },
  {
   "cell_type": "markdown",
   "metadata": {},
   "source": [
    "## Setup tensorboard"
   ]
  },
  {
   "cell_type": "code",
   "execution_count": 9,
   "metadata": {},
   "outputs": [],
   "source": [
    "from torch.utils.tensorboard import SummaryWriter\n",
    "\n",
    "# default `log_dir` is \"runs\" - we'll be more specific here.\n",
    "# Note that this line alone creates a local 'runs/fashion_mnist_experiment_1' folder.\n",
    "writer = SummaryWriter('runs/fashion_mnist_experiment_1')"
   ]
  },
  {
   "cell_type": "markdown",
   "metadata": {},
   "source": [
    "## Check if pytorch can use GPU"
   ]
  },
  {
   "cell_type": "code",
   "execution_count": 10,
   "metadata": {},
   "outputs": [
    {
     "name": "stdout",
     "output_type": "stream",
     "text": [
      "True\n",
      "0\n",
      "<torch.cuda.device object at 0x00000264B2379D88>\n",
      "1\n",
      "NVIDIA GeForce RTX 3080\n"
     ]
    }
   ],
   "source": [
    "print(torch.cuda.is_available())\n",
    "print(torch.cuda.current_device())\n",
    "print(torch.cuda.device(0))\n",
    "print(torch.cuda.device_count())\n",
    "print(torch.cuda.get_device_name(0))"
   ]
  },
  {
   "cell_type": "markdown",
   "metadata": {},
   "source": [
    "## Set up training and testing dataset using MNIST"
   ]
  },
  {
   "cell_type": "code",
   "execution_count": 11,
   "metadata": {},
   "outputs": [],
   "source": [
    "batch_size = 200\n",
    "epochs = 10\n",
    "\n",
    "# - First time it will download MNIST data online to `../data` path;\n",
    "# - Parameter `transforms.Normalize((0.1307, ), (0.3081, ))` is some experiential normalization\n",
    "#   parameters on original images which can improve the classification result. It can be skipped\n",
    "#   if you don't need.\n",
    "# - Distinguish training or testing dataset by setting `train=True` or `train=False`.\n",
    "train_loader = torch.utils.data.DataLoader(datasets.MNIST(\n",
    "    '../data',\n",
    "    train=True,\n",
    "    download=True,\n",
    "    transform=transforms.Compose(\n",
    "        [transforms.ToTensor(),\n",
    "         transforms.Normalize((0.1307, ), (0.3081, ))])),\n",
    "                                           batch_size=batch_size,\n",
    "                                           shuffle=True)\n",
    "test_loader = torch.utils.data.DataLoader(datasets.MNIST(\n",
    "    '../data',\n",
    "    train=False,\n",
    "    transform=transforms.Compose(\n",
    "        [transforms.ToTensor(),\n",
    "         transforms.Normalize((0.1307, ), (0.3081, ))])),\n",
    "                                          batch_size=batch_size,\n",
    "                                          shuffle=True)"
   ]
  },
  {
   "cell_type": "code",
   "execution_count": 12,
   "metadata": {},
   "outputs": [
    {
     "name": "stdout",
     "output_type": "stream",
     "text": [
      "torch.Size([200, 1, 28, 28]) torch.Size([200])\n",
      "tensor([[[[-0.4242, -0.4242, -0.4242,  ..., -0.4242, -0.4242, -0.4242],\n",
      "          [-0.4242, -0.4242, -0.4242,  ..., -0.4242, -0.4242, -0.4242],\n",
      "          [-0.4242, -0.4242, -0.4242,  ..., -0.4242, -0.4242, -0.4242],\n",
      "          ...,\n",
      "          [-0.4242, -0.4242, -0.4242,  ..., -0.4242, -0.4242, -0.4242],\n",
      "          [-0.4242, -0.4242, -0.4242,  ..., -0.4242, -0.4242, -0.4242],\n",
      "          [-0.4242, -0.4242, -0.4242,  ..., -0.4242, -0.4242, -0.4242]]],\n",
      "\n",
      "\n",
      "        [[[-0.4242, -0.4242, -0.4242,  ..., -0.4242, -0.4242, -0.4242],\n",
      "          [-0.4242, -0.4242, -0.4242,  ..., -0.4242, -0.4242, -0.4242],\n",
      "          [-0.4242, -0.4242, -0.4242,  ..., -0.4242, -0.4242, -0.4242],\n",
      "          ...,\n",
      "          [-0.4242, -0.4242, -0.4242,  ..., -0.4242, -0.4242, -0.4242],\n",
      "          [-0.4242, -0.4242, -0.4242,  ..., -0.4242, -0.4242, -0.4242],\n",
      "          [-0.4242, -0.4242, -0.4242,  ..., -0.4242, -0.4242, -0.4242]]],\n",
      "\n",
      "\n",
      "        [[[-0.4242, -0.4242, -0.4242,  ..., -0.4242, -0.4242, -0.4242],\n",
      "          [-0.4242, -0.4242, -0.4242,  ..., -0.4242, -0.4242, -0.4242],\n",
      "          [-0.4242, -0.4242, -0.4242,  ..., -0.4242, -0.4242, -0.4242],\n",
      "          ...,\n",
      "          [-0.4242, -0.4242, -0.4242,  ..., -0.4242, -0.4242, -0.4242],\n",
      "          [-0.4242, -0.4242, -0.4242,  ..., -0.4242, -0.4242, -0.4242],\n",
      "          [-0.4242, -0.4242, -0.4242,  ..., -0.4242, -0.4242, -0.4242]]],\n",
      "\n",
      "\n",
      "        ...,\n",
      "\n",
      "\n",
      "        [[[-0.4242, -0.4242, -0.4242,  ..., -0.4242, -0.4242, -0.4242],\n",
      "          [-0.4242, -0.4242, -0.4242,  ..., -0.4242, -0.4242, -0.4242],\n",
      "          [-0.4242, -0.4242, -0.4242,  ..., -0.4242, -0.4242, -0.4242],\n",
      "          ...,\n",
      "          [-0.4242, -0.4242, -0.4242,  ..., -0.4242, -0.4242, -0.4242],\n",
      "          [-0.4242, -0.4242, -0.4242,  ..., -0.4242, -0.4242, -0.4242],\n",
      "          [-0.4242, -0.4242, -0.4242,  ..., -0.4242, -0.4242, -0.4242]]],\n",
      "\n",
      "\n",
      "        [[[-0.4242, -0.4242, -0.4242,  ..., -0.4242, -0.4242, -0.4242],\n",
      "          [-0.4242, -0.4242, -0.4242,  ..., -0.4242, -0.4242, -0.4242],\n",
      "          [-0.4242, -0.4242, -0.4242,  ..., -0.4242, -0.4242, -0.4242],\n",
      "          ...,\n",
      "          [-0.4242, -0.4242, -0.4242,  ..., -0.4242, -0.4242, -0.4242],\n",
      "          [-0.4242, -0.4242, -0.4242,  ..., -0.4242, -0.4242, -0.4242],\n",
      "          [-0.4242, -0.4242, -0.4242,  ..., -0.4242, -0.4242, -0.4242]]],\n",
      "\n",
      "\n",
      "        [[[-0.4242, -0.4242, -0.4242,  ..., -0.4242, -0.4242, -0.4242],\n",
      "          [-0.4242, -0.4242, -0.4242,  ..., -0.4242, -0.4242, -0.4242],\n",
      "          [-0.4242, -0.4242, -0.4242,  ..., -0.4242, -0.4242, -0.4242],\n",
      "          ...,\n",
      "          [-0.4242, -0.4242, -0.4242,  ..., -0.4242, -0.4242, -0.4242],\n",
      "          [-0.4242, -0.4242, -0.4242,  ..., -0.4242, -0.4242, -0.4242],\n",
      "          [-0.4242, -0.4242, -0.4242,  ..., -0.4242, -0.4242, -0.4242]]]]) tensor([5, 9, 1, 2, 3, 5, 8, 1, 8, 9, 4, 2, 0, 2, 0, 9, 8, 0, 5, 9, 9, 3, 1, 6,\n",
      "        9, 2, 2, 3, 0, 0, 4, 2, 5, 9, 1, 7, 7, 4, 5, 5, 3, 0, 2, 7, 1, 8, 0, 7,\n",
      "        4, 9, 7, 6, 2, 2, 3, 1, 6, 0, 5, 2, 4, 4, 0, 7, 7, 1, 9, 9, 8, 8, 7, 4,\n",
      "        4, 9, 4, 3, 8, 4, 7, 2, 0, 6, 4, 0, 2, 5, 5, 9, 0, 9, 7, 9, 3, 2, 1, 4,\n",
      "        1, 7, 4, 6, 3, 6, 0, 8, 2, 2, 4, 1, 0, 3, 9, 1, 2, 8, 7, 2, 6, 1, 1, 0,\n",
      "        7, 3, 2, 8, 6, 4, 4, 0, 0, 6, 2, 5, 1, 9, 4, 5, 3, 9, 5, 1, 5, 2, 0, 0,\n",
      "        6, 9, 0, 0, 4, 8, 1, 9, 8, 9, 7, 0, 7, 2, 4, 1, 2, 9, 3, 4, 1, 8, 8, 0,\n",
      "        6, 2, 7, 7, 5, 5, 0, 7, 8, 8, 5, 2, 1, 5, 7, 4, 2, 3, 6, 7, 1, 1, 5, 3,\n",
      "        1, 2, 9, 7, 6, 1, 6, 4])\n"
     ]
    }
   ],
   "source": [
    "# Print a sample to verify the data loader.\n",
    "# Each image in MNIST dataset is a 28x28 grayscale (1-channel) image.\n",
    "# Then, data.shape should be [batch_size, 1, 28, 28], while target.shape should be [batch_size].\n",
    "source, target = next(iter(train_loader))\n",
    "print(source.shape, target.shape)\n",
    "print(source.data, target.data)"
   ]
  },
  {
   "cell_type": "markdown",
   "metadata": {},
   "source": [
    "## Visualize some sample images on tensorboard"
   ]
  },
  {
   "cell_type": "code",
   "execution_count": 16,
   "metadata": {},
   "outputs": [
    {
     "data": {
      "image/png": "[encoded data removed]",
      "text/plain": [
       "<Figure size 432x288 with 1 Axes>"
      ]
     },
     "metadata": {
      "needs_background": "light"
     },
     "output_type": "display_data"
    }
   ],
   "source": [
    "# Define a helper function to show images\n",
    "def matplotlib_imshow(img, one_channel=False):\n",
    "    if one_channel:\n",
    "        img = img.mean(dim=0)\n",
    "    img = img / 2 + 0.5  # unnormalize\n",
    "    npimg = img.numpy()\n",
    "    if one_channel:\n",
    "        plt.imshow(npimg, cmap=\"Greys\")\n",
    "    else:\n",
    "        plt.imshow(np.transpose(npimg, (1, 2, 0)))\n",
    "\n",
    "\n",
    "# create grid of images\n",
    "img_grid = torchvision.utils.make_grid(source, nrow=10)\n",
    "\n",
    "# show images\n",
    "matplotlib_imshow(img_grid, one_channel=True)\n",
    "\n",
    "# write to tensorboard\n",
    "writer.add_image('mnist_images_sample_first_batch', img_grid)"
   ]
  },
  {
   "cell_type": "markdown",
   "metadata": {},
   "source": [
    "## Set up MLP layers\n",
    "Here we use three layers and design a inherited class."
   ]
  },
  {
   "cell_type": "code",
   "execution_count": 17,
   "metadata": {},
   "outputs": [],
   "source": [
    "class MLP(nn.Module):\n",
    "    def __init__(self, in_dim, out_dim):\n",
    "        super(MLP, self).__init__()\n",
    "\n",
    "        self.model = nn.Sequential(\n",
    "            nn.Linear(in_dim, 200),\n",
    "            nn.ReLU(inplace=True),\n",
    "            nn.Linear(200, 200),\n",
    "            nn.ReLU(inplace=True),\n",
    "            nn.Linear(200, out_dim),\n",
    "            nn.ReLU(inplace=True),\n",
    "        )\n",
    "        # Initialize weights here\n",
    "        self._init_weight('kaiming')\n",
    "\n",
    "    # Initialization function, first checks the module type,\n",
    "    # then applies the desired changes to the weights.\n",
    "    def _init_weight(self, init_method):\n",
    "        for m in self.modules():\n",
    "            if isinstance(m, nn.Linear):\n",
    "                if init_method == 'kaiming':\n",
    "                    # 'fan_in': to create weight implicitly by creating a linear layer\n",
    "                    nn.init.kaiming_normal_(m.weight, mode='fan_in')\n",
    "                else:\n",
    "                    nn.init.normal_(m.weight, 0, 0.01)\n",
    "            elif isinstance(m, nn.BatchNorm2d):\n",
    "                nn.init.ones_(m.weight)\n",
    "                nn.init.zeros_(m.bias)\n",
    "\n",
    "    def forward(self, x):\n",
    "        x = self.model(x)\n",
    "        return x\n"
   ]
  },
  {
   "cell_type": "markdown",
   "metadata": {},
   "source": [
    "## Set up neural network"
   ]
  },
  {
   "cell_type": "code",
   "execution_count": 18,
   "metadata": {},
   "outputs": [],
   "source": [
    "# Use the first GPU device\n",
    "device = torch.device('cuda:0')\n",
    "\n",
    "# NOTE: here 28*28 is input dimension, while 10 is output dimension (10 labels).\n",
    "# Set '.to(device)' on neural network and loss to use GPU.\n",
    "net = MLP(28 * 28, 10).to(device)\n",
    "learning_rate = 0.01\n",
    "optimizer = optim.SGD(net.parameters(), lr=learning_rate)\n",
    "criteon = nn.CrossEntropyLoss().to(device)"
   ]
  },
  {
   "cell_type": "markdown",
   "metadata": {},
   "source": [
    "## Inspect the model using TensorBoard\n",
    "\n",
    "One of TensorBoard’s strengths is its ability to visualize complex model structures. Let’s visualize the model we built."
   ]
  },
  {
   "cell_type": "code",
   "execution_count": 21,
   "metadata": {},
   "outputs": [],
   "source": [
    "# Continue to use 'source' as example (first batch of images, size [batch_size, 1, 28, 28]).\n",
    "# Note to convert it to [batch_size, 28*28] first to fit network input, and upload to GPU too.\n",
    "source = source.view(-1, 28 * 28)\n",
    "source = source.to(device)\n",
    "\n",
    "writer.add_graph(net, source)\n",
    "writer.close()\n",
    "\n",
    "# Now upon refreshing TensorBoard you should see a “Graphs” tab. "
   ]
  },
  {
   "cell_type": "markdown",
   "metadata": {},
   "source": [
    "## Training and testing loop for epochs"
   ]
  },
  {
   "cell_type": "code",
   "execution_count": null,
   "metadata": {},
   "outputs": [],
   "source": [
    "\n",
    "\n",
    "# Main loop\n",
    "for epoch in range(epochs):\n",
    "\n",
    "    # Training\n",
    "    for batch_idx, (data, target) in enumerate(train_loader):\n",
    "        # [b, 1, 28, 28] => [b, 28*28]\n",
    "        data = data.view(-1, 28 * 28)\n",
    "\n",
    "        # Send the data to GPU.\n",
    "        data, target = data.to(device), target.to(device)\n",
    "\n",
    "        # Call forward() function.\n",
    "        logits = net(data)\n",
    "\n",
    "        # NOTE: pytorch's CrossEntropyLoss() already contains softwax. So don't call it again.\n",
    "        loss = criteon(logits, target)\n",
    "\n",
    "        # Clear gradients to zero before computing them.\n",
    "        optimizer.zero_grad()\n",
    "        # Set up backward computation on loss\n",
    "        loss.backward()\n",
    "        # This will update newly computed gradients\n",
    "        optimizer.step()\n",
    "\n",
    "        # Print some loss values\n",
    "        if batch_idx % 100 == 0:\n",
    "            print('Train Epoch: {} [{}/{} ({:.0f}%)]\\tLoss: {:.6f}'.format(\n",
    "                epoch, batch_idx * len(data), len(train_loader.dataset),\n",
    "                100. * batch_idx / len(train_loader), loss.item()))\n",
    "\n",
    "    # Testing\n",
    "    test_loss = 0\n",
    "    correct = 0\n",
    "    for data, target in test_loader:\n",
    "        data = data.view(-1, 28 * 28)\n",
    "        data, target = data.to(device), target.to(device)\n",
    "\n",
    "        logits = net(data)\n",
    "\n",
    "        # .item() is to get value(s) from the loss\n",
    "        test_loss += criteon(logits, target).item()\n",
    "\n",
    "        # pred is to get all predicted labels. 'logits' should be [batch_size, 10], where 10 is number of labels.\n",
    "        # - .max(1): get maximum values and indices along axis=1.\n",
    "        # - .max(1)[1]: max(1) returns two items that, [0] is values of maximums, and [1] is indices of these maximum\n",
    "        #               values (along the axis 1), while the latter is exactly the predicted labels.\n",
    "        # pred = logits.max(1)[1]\n",
    "        # NOTE: this works the same as above.\n",
    "        pred = logits.argmax(dim=1)\n",
    "\n",
    "        # Sum the number of correct prediction, by comparing predicted labels (pred) with target labels (target.data).\n",
    "        # - .eq(): returns a tensor with same size of pred or target.data that, its value is 1 if the two corresponding\n",
    "        #          values are equal, or 0 if not.\n",
    "        # - .sum(): summarize all values to get the number of correct predictions.\n",
    "        correct += pred.eq(target).sum()\n",
    "\n",
    "    # Print testing loss for this epoch\n",
    "    test_loss /= len(test_loader.dataset)\n",
    "    print(\n",
    "        '\\nTest set: Average loss: {:.4f}, Accuracy: {}/{} ({:.0f}%)\\n'.format(\n",
    "            test_loss, correct, len(test_loader.dataset),\n",
    "            100. * correct / len(test_loader.dataset)))\n"
   ]
  }
 ],
 "metadata": {
  "interpreter": {
   "hash": "4319ab5f051f54d8f5639b94b48976245e909ba20d4cb41a21df9adffaea2c48"
  },
  "kernelspec": {
   "display_name": "Python 3.7.11 64-bit ('pytorch': conda)",
   "name": "python3"
  },
  "language_info": {
   "codemirror_mode": {
    "name": "ipython",
    "version": 3
   },
   "file_extension": ".py",
   "mimetype": "text/x-python",
   "name": "python",
   "nbconvert_exporter": "python",
   "pygments_lexer": "ipython3",
   "version": "3.7.11"
  },
  "orig_nbformat": 4
 },
 "nbformat": 4,
 "nbformat_minor": 2
}
