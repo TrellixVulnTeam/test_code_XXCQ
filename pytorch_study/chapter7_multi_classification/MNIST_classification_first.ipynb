{
 "cells": [
  {
   "cell_type": "markdown",
   "metadata": {},
   "source": [
    "# A three-layer multi-label-classification using MNIST dataset (CPU only)"
   ]
  },
  {
   "cell_type": "code",
   "execution_count": 1,
   "metadata": {},
   "outputs": [],
   "source": [
    "import torch\n",
    "import torch.nn as nn\n",
    "import torch.nn.functional as F\n",
    "import torch.optim as optim\n",
    "from torchvision import datasets, transforms"
   ]
  },
  {
   "cell_type": "markdown",
   "metadata": {},
   "source": [
    "## Check if pytorch can use GPU"
   ]
  },
  {
   "cell_type": "code",
   "execution_count": 2,
   "metadata": {},
   "outputs": [
    {
     "name": "stdout",
     "output_type": "stream",
     "text": [
      "True\n",
      "0\n",
      "<torch.cuda.device object at 0x000001EEB61200C8>\n",
      "1\n",
      "NVIDIA GeForce RTX 3080\n"
     ]
    }
   ],
   "source": [
    "print(torch.cuda.is_available())\n",
    "print(torch.cuda.current_device())\n",
    "print(torch.cuda.device(0))\n",
    "print(torch.cuda.device_count())\n",
    "print(torch.cuda.get_device_name(0))"
   ]
  },
  {
   "cell_type": "markdown",
   "metadata": {},
   "source": [
    "## Set up training and testing dataset using MNIST"
   ]
  },
  {
   "cell_type": "code",
   "execution_count": 4,
   "metadata": {},
   "outputs": [
    {
     "name": "stderr",
     "output_type": "stream",
     "text": [
      "C:\\Users\\chaow\\.conda\\envs\\pytorch\\lib\\site-packages\\torchvision\\datasets\\mnist.py:498: UserWarning: The given NumPy array is not writeable, and PyTorch does not support non-writeable tensors. This means you can write to the underlying (supposedly non-writeable) NumPy array using the tensor. You may want to copy the array to protect its data or make it writeable before converting it to a tensor. This type of warning will be suppressed for the rest of this program. (Triggered internally at  ..\\torch\\csrc\\utils\\tensor_numpy.cpp:180.)\n",
      "  return torch.from_numpy(parsed.astype(m[2], copy=False)).view(*s)\n"
     ]
    }
   ],
   "source": [
    "batch_size = 200\n",
    "epochs = 10\n",
    "\n",
    "# - First time it will download MNIST data online to `../data` path;\n",
    "# - Parameter `transforms.Normalize((0.1307, ), (0.3081, ))` is some experiential normalization\n",
    "#   parameters on original images which can improve the classification result. It can be skipped\n",
    "#   if you don't need.\n",
    "# - Distinguish training or testing dataset by setting `train=True` or `train=False`.\n",
    "train_loader = torch.utils.data.DataLoader(datasets.MNIST(\n",
    "    '../data',\n",
    "    train=True,\n",
    "    download=True,\n",
    "    transform=transforms.Compose(\n",
    "        [transforms.ToTensor(),\n",
    "         transforms.Normalize((0.1307, ), (0.3081, ))])),\n",
    "                                           batch_size=batch_size,\n",
    "                                           shuffle=True)\n",
    "test_loader = torch.utils.data.DataLoader(datasets.MNIST(\n",
    "    '../data',\n",
    "    train=False,\n",
    "    transform=transforms.Compose(\n",
    "        [transforms.ToTensor(),\n",
    "         transforms.Normalize((0.1307, ), (0.3081, ))])),\n",
    "                                          batch_size=batch_size,\n",
    "                                          shuffle=True)"
   ]
  },
  {
   "cell_type": "code",
   "execution_count": 5,
   "metadata": {},
   "outputs": [
    {
     "name": "stdout",
     "output_type": "stream",
     "text": [
      "torch.Size([200, 1, 28, 28]) torch.Size([200])\n",
      "tensor([[[[-0.4242, -0.4242, -0.4242,  ..., -0.4242, -0.4242, -0.4242],\n",
      "          [-0.4242, -0.4242, -0.4242,  ..., -0.4242, -0.4242, -0.4242],\n",
      "          [-0.4242, -0.4242, -0.4242,  ..., -0.4242, -0.4242, -0.4242],\n",
      "          ...,\n",
      "          [-0.4242, -0.4242, -0.4242,  ..., -0.4242, -0.4242, -0.4242],\n",
      "          [-0.4242, -0.4242, -0.4242,  ..., -0.4242, -0.4242, -0.4242],\n",
      "          [-0.4242, -0.4242, -0.4242,  ..., -0.4242, -0.4242, -0.4242]]],\n",
      "\n",
      "\n",
      "        [[[-0.4242, -0.4242, -0.4242,  ..., -0.4242, -0.4242, -0.4242],\n",
      "          [-0.4242, -0.4242, -0.4242,  ..., -0.4242, -0.4242, -0.4242],\n",
      "          [-0.4242, -0.4242, -0.4242,  ..., -0.4242, -0.4242, -0.4242],\n",
      "          ...,\n",
      "          [-0.4242, -0.4242, -0.4242,  ..., -0.4242, -0.4242, -0.4242],\n",
      "          [-0.4242, -0.4242, -0.4242,  ..., -0.4242, -0.4242, -0.4242],\n",
      "          [-0.4242, -0.4242, -0.4242,  ..., -0.4242, -0.4242, -0.4242]]],\n",
      "\n",
      "\n",
      "        [[[-0.4242, -0.4242, -0.4242,  ..., -0.4242, -0.4242, -0.4242],\n",
      "          [-0.4242, -0.4242, -0.4242,  ..., -0.4242, -0.4242, -0.4242],\n",
      "          [-0.4242, -0.4242, -0.4242,  ..., -0.4242, -0.4242, -0.4242],\n",
      "          ...,\n",
      "          [-0.4242, -0.4242, -0.4242,  ..., -0.4242, -0.4242, -0.4242],\n",
      "          [-0.4242, -0.4242, -0.4242,  ..., -0.4242, -0.4242, -0.4242],\n",
      "          [-0.4242, -0.4242, -0.4242,  ..., -0.4242, -0.4242, -0.4242]]],\n",
      "\n",
      "\n",
      "        ...,\n",
      "\n",
      "\n",
      "        [[[-0.4242, -0.4242, -0.4242,  ..., -0.4242, -0.4242, -0.4242],\n",
      "          [-0.4242, -0.4242, -0.4242,  ..., -0.4242, -0.4242, -0.4242],\n",
      "          [-0.4242, -0.4242, -0.4242,  ..., -0.4242, -0.4242, -0.4242],\n",
      "          ...,\n",
      "          [-0.4242, -0.4242, -0.4242,  ..., -0.4242, -0.4242, -0.4242],\n",
      "          [-0.4242, -0.4242, -0.4242,  ..., -0.4242, -0.4242, -0.4242],\n",
      "          [-0.4242, -0.4242, -0.4242,  ..., -0.4242, -0.4242, -0.4242]]],\n",
      "\n",
      "\n",
      "        [[[-0.4242, -0.4242, -0.4242,  ..., -0.4242, -0.4242, -0.4242],\n",
      "          [-0.4242, -0.4242, -0.4242,  ..., -0.4242, -0.4242, -0.4242],\n",
      "          [-0.4242, -0.4242, -0.4242,  ..., -0.4242, -0.4242, -0.4242],\n",
      "          ...,\n",
      "          [-0.4242, -0.4242, -0.4242,  ..., -0.4242, -0.4242, -0.4242],\n",
      "          [-0.4242, -0.4242, -0.4242,  ..., -0.4242, -0.4242, -0.4242],\n",
      "          [-0.4242, -0.4242, -0.4242,  ..., -0.4242, -0.4242, -0.4242]]],\n",
      "\n",
      "\n",
      "        [[[-0.4242, -0.4242, -0.4242,  ..., -0.4242, -0.4242, -0.4242],\n",
      "          [-0.4242, -0.4242, -0.4242,  ..., -0.4242, -0.4242, -0.4242],\n",
      "          [-0.4242, -0.4242, -0.4242,  ..., -0.4242, -0.4242, -0.4242],\n",
      "          ...,\n",
      "          [-0.4242, -0.4242, -0.4242,  ..., -0.4242, -0.4242, -0.4242],\n",
      "          [-0.4242, -0.4242, -0.4242,  ..., -0.4242, -0.4242, -0.4242],\n",
      "          [-0.4242, -0.4242, -0.4242,  ..., -0.4242, -0.4242, -0.4242]]]]) tensor([7, 7, 2, 2, 5, 9, 4, 5, 5, 8, 0, 1, 2, 9, 7, 1, 7, 9, 6, 0, 6, 1, 2, 8,\n",
      "        1, 3, 3, 8, 8, 0, 5, 7, 1, 5, 0, 6, 6, 4, 1, 9, 8, 0, 0, 0, 9, 1, 5, 3,\n",
      "        2, 4, 1, 4, 3, 8, 8, 5, 0, 9, 9, 0, 8, 7, 5, 8, 9, 0, 5, 4, 3, 3, 3, 3,\n",
      "        2, 1, 6, 6, 9, 6, 6, 9, 1, 8, 2, 4, 3, 1, 8, 0, 5, 7, 4, 8, 6, 4, 0, 4,\n",
      "        1, 8, 4, 0, 3, 7, 1, 4, 1, 3, 3, 3, 0, 6, 3, 9, 2, 0, 0, 1, 9, 8, 5, 7,\n",
      "        9, 1, 2, 6, 5, 9, 4, 9, 6, 9, 8, 9, 8, 3, 3, 1, 3, 1, 1, 4, 4, 3, 5, 2,\n",
      "        9, 9, 9, 0, 8, 1, 2, 3, 0, 3, 2, 3, 1, 6, 7, 2, 7, 3, 0, 8, 7, 9, 1, 7,\n",
      "        7, 5, 4, 7, 8, 0, 7, 5, 4, 4, 9, 2, 1, 1, 2, 7, 3, 7, 1, 8, 2, 7, 3, 7,\n",
      "        6, 2, 0, 4, 0, 0, 9, 0])\n"
     ]
    }
   ],
   "source": [
    "# Print a sample to verify the data loader.\n",
    "# Each image in MNIST dataset is a 28x28 grayscale (1-channel) image.\n",
    "# Then, data.shape should be [batch_size, 1, 28, 28], while target.shape should be [batch_size].\n",
    "source, target = next(iter(train_loader))\n",
    "print(source.shape, target.shape)\n",
    "print(source.data, target.data)"
   ]
  },
  {
   "cell_type": "markdown",
   "metadata": {},
   "source": [
    "## Set up MLP layers\n",
    "Here we use three layers."
   ]
  },
  {
   "cell_type": "code",
   "execution_count": 6,
   "metadata": {},
   "outputs": [],
   "source": [
    "# NOTE: \n",
    "# - 784 is the input dimension, while 200 is output dimension (for the first \n",
    "# layer), according to the steps in forward() below. \n",
    "# - 10 in layer 3 is the output dimension (since there are 10 labels in MNIST dataset)\n",
    "# - Remember to set requires_grad=True, so this is a variable to be optimized.\n",
    "w1, b1 = torch.randn(200, 784, requires_grad=True),\\\n",
    "         torch.zeros(200, requires_grad=True)\n",
    "w2, b2 = torch.randn(200, 200, requires_grad=True),\\\n",
    "         torch.zeros(200, requires_grad=True)\n",
    "w3, b3 = torch.randn(10, 200, requires_grad=True),\\\n",
    "         torch.zeros(10, requires_grad=True)\n",
    "\n",
    "# This is to add a special normalization method proposed by Kaiming He in his paper. \n",
    "# This is good for image classification problem that it can increase effiency. \n",
    "# If not using it, losses are easily not decreasing in the middle.\n",
    "# Ref: https://pytorch.org/cppdocs/api/function_namespacetorch_1_1nn_1_1init_1ac8a913c051976a3f41f20df7d6126e57.html\n",
    "torch.nn.init.kaiming_normal_(w1)\n",
    "torch.nn.init.kaiming_normal_(w2)\n",
    "torch.nn.init.kaiming_normal_(w3)\n",
    "\n",
    "# forward function\n",
    "def forward(x):\n",
    "    # NOTE here we multiply input original matrix x by w1's transpose.\n",
    "    x = x@w1.t() + b1\n",
    "    x = F.relu(x)\n",
    "    x = x@w2.t() + b2\n",
    "    x = F.relu(x)\n",
    "    x = x@w3.t() + b3\n",
    "    x = F.relu(x) # this last relu can be skipped but harmless, up to you\n",
    "    return x"
   ]
  },
  {
   "cell_type": "markdown",
   "metadata": {},
   "source": [
    "## Set up main training and testing pipeline"
   ]
  },
  {
   "cell_type": "code",
   "execution_count": 7,
   "metadata": {},
   "outputs": [
    {
     "name": "stdout",
     "output_type": "stream",
     "text": [
      "Train Epoch: 0 [0/60000 (0%)]\tLoss: 2.958808\n",
      "Train Epoch: 0 [20000/60000 (33%)]\tLoss: 0.909303\n",
      "Train Epoch: 0 [40000/60000 (67%)]\tLoss: 0.701651\n",
      "\n",
      "Test set: Average loss: 0.0029, Accuracy: 8124/10000 (81%)\n",
      "\n",
      "Train Epoch: 1 [0/60000 (0%)]\tLoss: 0.612155\n",
      "Train Epoch: 1 [20000/60000 (33%)]\tLoss: 0.686361\n",
      "Train Epoch: 1 [40000/60000 (67%)]\tLoss: 0.460458\n",
      "\n",
      "Test set: Average loss: 0.0025, Accuracy: 8326/10000 (83%)\n",
      "\n",
      "Train Epoch: 2 [0/60000 (0%)]\tLoss: 0.555755\n",
      "Train Epoch: 2 [20000/60000 (33%)]\tLoss: 0.444648\n",
      "Train Epoch: 2 [40000/60000 (67%)]\tLoss: 0.453320\n",
      "\n",
      "Test set: Average loss: 0.0023, Accuracy: 8425/10000 (84%)\n",
      "\n",
      "Train Epoch: 3 [0/60000 (0%)]\tLoss: 0.384347\n",
      "Train Epoch: 3 [20000/60000 (33%)]\tLoss: 0.540395\n",
      "Train Epoch: 3 [40000/60000 (67%)]\tLoss: 0.394242\n",
      "\n",
      "Test set: Average loss: 0.0022, Accuracy: 8490/10000 (85%)\n",
      "\n",
      "Train Epoch: 4 [0/60000 (0%)]\tLoss: 0.387869\n",
      "Train Epoch: 4 [20000/60000 (33%)]\tLoss: 0.467702\n",
      "Train Epoch: 4 [40000/60000 (67%)]\tLoss: 0.334881\n",
      "\n",
      "Test set: Average loss: 0.0021, Accuracy: 8521/10000 (85%)\n",
      "\n",
      "Train Epoch: 5 [0/60000 (0%)]\tLoss: 0.378926\n",
      "Train Epoch: 5 [20000/60000 (33%)]\tLoss: 0.367134\n",
      "Train Epoch: 5 [40000/60000 (67%)]\tLoss: 0.383007\n",
      "\n",
      "Test set: Average loss: 0.0021, Accuracy: 8557/10000 (86%)\n",
      "\n",
      "Train Epoch: 6 [0/60000 (0%)]\tLoss: 0.412312\n",
      "Train Epoch: 6 [20000/60000 (33%)]\tLoss: 0.393572\n",
      "Train Epoch: 6 [40000/60000 (67%)]\tLoss: 0.444829\n",
      "\n",
      "Test set: Average loss: 0.0020, Accuracy: 8577/10000 (86%)\n",
      "\n",
      "Train Epoch: 7 [0/60000 (0%)]\tLoss: 0.371750\n",
      "Train Epoch: 7 [20000/60000 (33%)]\tLoss: 0.484786\n",
      "Train Epoch: 7 [40000/60000 (67%)]\tLoss: 0.435011\n",
      "\n",
      "Test set: Average loss: 0.0020, Accuracy: 8595/10000 (86%)\n",
      "\n",
      "Train Epoch: 8 [0/60000 (0%)]\tLoss: 0.462368\n",
      "Train Epoch: 8 [20000/60000 (33%)]\tLoss: 0.275169\n",
      "Train Epoch: 8 [40000/60000 (67%)]\tLoss: 0.386174\n",
      "\n",
      "Test set: Average loss: 0.0019, Accuracy: 8614/10000 (86%)\n",
      "\n",
      "Train Epoch: 9 [0/60000 (0%)]\tLoss: 0.379850\n",
      "Train Epoch: 9 [20000/60000 (33%)]\tLoss: 0.478360\n",
      "Train Epoch: 9 [40000/60000 (67%)]\tLoss: 0.396564\n",
      "\n",
      "Test set: Average loss: 0.0019, Accuracy: 8626/10000 (86%)\n",
      "\n"
     ]
    }
   ],
   "source": [
    "# Optimizer (SGD) and loss type.\n",
    "learning_rate = 0.01\n",
    "optimizer = optim.SGD([w1, b1, w2, b2, w3, b3], lr=learning_rate)\n",
    "criteon = nn.CrossEntropyLoss()\n",
    "\n",
    "# Main loop\n",
    "for epoch in range(epochs):\n",
    "\n",
    "    # Training\n",
    "    for batch_idx, (data, target) in enumerate(train_loader):\n",
    "        # [b, 1, 28, 28] => [b, 28*28]\n",
    "        data = data.view(-1, 28 * 28)\n",
    "\n",
    "        # Call forward() function.\n",
    "        logits = forward(data)\n",
    "\n",
    "        # NOTE: pytorch's CrossEntropyLoss() already contains softwax. So don't call it again.\n",
    "        loss = criteon(logits, target)\n",
    "\n",
    "        # Clear gradients to zero before computing them.\n",
    "        optimizer.zero_grad()\n",
    "        # Set up backward computation on loss\n",
    "        loss.backward()\n",
    "        # This will update newly computed gradients\n",
    "        optimizer.step()\n",
    "\n",
    "        # Print some loss values\n",
    "        if batch_idx % 100 == 0:\n",
    "            print('Train Epoch: {} [{}/{} ({:.0f}%)]\\tLoss: {:.6f}'.format(\n",
    "                epoch, batch_idx * len(data), len(train_loader.dataset),\n",
    "                100. * batch_idx / len(train_loader), loss.item()))\n",
    "\n",
    "    # Testing\n",
    "    test_loss = 0\n",
    "    correct = 0\n",
    "    for data, target in test_loader:\n",
    "        data = data.view(-1, 28 * 28)\n",
    "        logits = forward(data)\n",
    "\n",
    "        # print(logits.data.shape)\n",
    "        # print(type(logits.data))\n",
    "        \n",
    "        # .item() is to get value(s) from the loss\n",
    "        test_loss += criteon(logits, target).item()\n",
    "\n",
    "        # pred is to get all predicted labels. 'logits' should be [batch_size, 10], where 10 is number of labels.\n",
    "        # - .max(1): get maximum values and indices along axis=1.\n",
    "        # - .max(1)[1]: max(1) returns two items that, [0] is values of maximums, and [1] is indices of these maximum \n",
    "        #               values (along the axis 1), while the latter is exactly the predicted labels.\n",
    "        # pred = logits.max(1)[1]\n",
    "        # NOTE: this works the same as above.\n",
    "        pred = logits.argmax(dim=1)\n",
    "        \n",
    "        # Sum the number of correct prediction, by comparing predicted labels (pred) with target labels (target.data).\n",
    "        # - .eq(): returns a tensor with same size of pred or target.data that, its value is 1 if the two corresponding\n",
    "        #          values are equal, or 0 if not.\n",
    "        # - .sum(): summarize all values to get the number of correct predictions.\n",
    "        correct += pred.eq(target).sum()\n",
    "    \n",
    "    # Print testing loss for this epoch\n",
    "    test_loss /= len(test_loader.dataset)\n",
    "    print('\\nTest set: Average loss: {:.4f}, Accuracy: {}/{} ({:.0f}%)\\n'.format(\n",
    "        test_loss, correct, len(test_loader.dataset),\n",
    "        100. * correct / len(test_loader.dataset)))\n",
    "    "
   ]
  }
 ],
 "metadata": {
  "interpreter": {
   "hash": "4319ab5f051f54d8f5639b94b48976245e909ba20d4cb41a21df9adffaea2c48"
  },
  "kernelspec": {
   "display_name": "Python 3.7.11 64-bit ('pytorch': conda)",
   "name": "python3"
  },
  "language_info": {
   "codemirror_mode": {
    "name": "ipython",
    "version": 3
   },
   "file_extension": ".py",
   "mimetype": "text/x-python",
   "name": "python",
   "nbconvert_exporter": "python",
   "pygments_lexer": "ipython3",
   "version": "3.7.11"
  },
  "orig_nbformat": 4
 },
 "nbformat": 4,
 "nbformat_minor": 2
}
